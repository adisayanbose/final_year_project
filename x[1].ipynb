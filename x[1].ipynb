{
 "cells": [
  {
   "cell_type": "code",
   "execution_count": 1,
   "metadata": {},
   "outputs": [],
   "source": [
    "import csv"
   ]
  },
  {
   "cell_type": "code",
   "execution_count": null,
   "metadata": {},
   "outputs": [
    {
     "name": "stdout",
     "output_type": "stream",
     "text": [
      "Schedule saved to final_schedule.csv\n",
      "Day summary saved to day_summary.csv\n",
      "\n",
      "--- FINAL REPORT ---\n",
      "Budget Given: ₹600.00\n",
      "Budget Used: ₹599.64\n",
      "Total Energy Consumption: 155.44 kWh\n",
      "\n",
      "Number of 'ON' Hours per Appliance:\n",
      "  Refrigerator: 720 hours (avg: 24.0 hours/day)\n",
      "  Air Conditioner: 20 hours (avg: 0.7 hours/day)\n",
      "  Lights: 142 hours (avg: 4.7 hours/day)\n",
      "  Fans: 131 hours (avg: 4.4 hours/day)\n",
      "  Television: 67 hours (avg: 2.2 hours/day)\n",
      "\n",
      "Refrigerator Usage:\n",
      "  Total Hours: 720\n",
      "  Days with Usage: 30\n",
      "  Maximum Hours per Day: 24\n",
      "  Average Hours per Day: 24.0\n",
      "\n",
      "Air Conditioner Usage:\n",
      "  Total Hours: 20\n",
      "  Days with Usage: 7\n",
      "  Maximum Hours per Day: 4\n",
      "  Average Hours per Day: 2.9\n",
      "  Temperature Range: 31.8°C - 32.3°C\n",
      "  Average Temperature: 32.1°C\n",
      "  Maximum Continuous Hours: 4\n",
      "\n",
      "Lights Usage:\n",
      "  Total Hours: 142\n",
      "  Days with Usage: 30\n",
      "  Maximum Hours per Day: 6\n",
      "  Average Hours per Day: 4.7\n",
      "\n",
      "Fans Usage:\n",
      "  Total Hours: 131\n",
      "  Days with Usage: 22\n",
      "  Maximum Hours per Day: 7\n",
      "  Average Hours per Day: 6.0\n",
      "  Temperature Range: 28.0°C - 31.8°C\n",
      "  Average Temperature: 30.2°C\n",
      "\n",
      "Television Usage:\n",
      "  Total Hours: 67\n",
      "  Days with Usage: 23\n",
      "  Maximum Hours per Day: 3\n",
      "  Average Hours per Day: 2.9\n",
      "\n",
      "Confirmed: Refrigerator is ON for all hours as requested.\n",
      "\n",
      "Energy Cost Distribution:\n",
      "  Refrigerator: 72.00 kWh (46.3%) - ₹277.75\n",
      "  Air Conditioner: 24.00 kWh (15.4%) - ₹92.58\n",
      "  Lights: 21.30 kWh (13.7%) - ₹82.17\n",
      "  Fans: 31.44 kWh (20.2%) - ₹121.29\n",
      "  Television: 6.70 kWh (4.3%) - ₹25.85\n"
     ]
    }
   ],
   "source": [
    "l0"
   ]
  },
  {
   "cell_type": "code",
   "execution_count": null,
   "metadata": {},
   "outputs": [],
   "source": []
  }
 ],
 "metadata": {
  "kernelspec": {
   "display_name": "Python 3",
   "language": "python",
   "name": "python3"
  },
  "language_info": {
   "codemirror_mode": {
    "name": "ipython",
    "version": 3
   },
   "file_extension": ".py",
   "mimetype": "text/x-python",
   "name": "python",
   "nbconvert_exporter": "python",
   "pygments_lexer": "ipython3",
   "version": "3.12.6"
  }
 },
 "nbformat": 4,
 "nbformat_minor": 2
}
